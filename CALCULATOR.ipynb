{
 "cells": [
  {
   "cell_type": "code",
   "execution_count": 5,
   "id": "2947b7fe-4d92-498f-8857-e5953e3b2001",
   "metadata": {},
   "outputs": [
    {
     "name": "stdout",
     "output_type": "stream",
     "text": [
      "Enter the OPERATORS : 1:ADD 2:SUB 3:MULITPLY 4:DIVIDED\n"
     ]
    },
    {
     "name": "stdin",
     "output_type": "stream",
     "text": [
      "select operators 1,2,3,4 4\n",
      "enter the number 8\n",
      "enter the number 25\n"
     ]
    },
    {
     "name": "stdout",
     "output_type": "stream",
     "text": [
      "8 / 25 = 0.32\n"
     ]
    }
   ],
   "source": [
    "def add(a,b):\n",
    "    return a+b\n",
    "def sub(a,b):\n",
    "    return a-b\n",
    "def multiply(a,b):\n",
    "    return a*b\n",
    "def divide(a,b):\n",
    "    return a/b\n",
    "print(\"Enter the OPERATORS : 1:ADD 2:SUB 3:MULITPLY 4:DIVIDED\")\n",
    "enter=int(input(\"select operators 1,2,3,4\"))\n",
    "a=int(input(\"enter the number\"))\n",
    "b=int(input(\"enter the number\"))\n",
    "if enter==1:\n",
    "      print(a,\"+\",b,\"=\",add(a,b))\n",
    "elif enter==2:\n",
    "      print(a,\"-\",b,\"=\",sub(a,b))      \n",
    "elif enter==3:\n",
    "      print(a,\"*\",b,\"=\",multiply(a,b))      \n",
    "elif enter==4:\n",
    "      print(a,\"/\",b,\"=\",divide(a,b))  \n",
    "else:\n",
    "    print(\"not valid\")"
   ]
  },
  {
   "cell_type": "code",
   "execution_count": 7,
   "id": "5eb67657-cad7-402d-b89d-d8b2656568ca",
   "metadata": {},
   "outputs": [
    {
     "name": "stdout",
     "output_type": "stream",
     "text": [
      "hihihihihi\n"
     ]
    }
   ],
   "source": [
    "a=\"hi\"\n",
    "b=5\n",
    "print(a*b)"
   ]
  },
  {
   "cell_type": "code",
   "execution_count": null,
   "id": "3ad6fd5b-f783-4975-b60d-15355ab831ad",
   "metadata": {},
   "outputs": [],
   "source": []
  }
 ],
 "metadata": {
  "kernelspec": {
   "display_name": "Python [conda env:base] *",
   "language": "python",
   "name": "conda-base-py"
  },
  "language_info": {
   "codemirror_mode": {
    "name": "ipython",
    "version": 3
   },
   "file_extension": ".py",
   "mimetype": "text/x-python",
   "name": "python",
   "nbconvert_exporter": "python",
   "pygments_lexer": "ipython3",
   "version": "3.12.7"
  }
 },
 "nbformat": 4,
 "nbformat_minor": 5
}
